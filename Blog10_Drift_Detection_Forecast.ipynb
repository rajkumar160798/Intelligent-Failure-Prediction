{
 "cells": [
  {
   "cell_type": "markdown",
   "metadata": {},
   "source": [
    "# Blog 10: Real-time Drift Detection in Forecast Models\n",
    "This notebook demonstrates how to detect data drift in time-series forecast models using `alibi-detect`, simulate drift, and integrate results into Airflow for monitoring and alerting."
   ]
  },
  {
   "cell_type": "code",
   "execution_count": null,
   "metadata": {},
   "outputs": [],
   "source": [
    "import numpy as np\n",
    "import matplotlib.pyplot as plt\n",
    "from alibi_detect.cd import KSDrift\n",
    "from alibi_detect.utils.data import create_outlier_batch\n",
    "from datetime import datetime, timedelta\n",
    "import pandas as pd"
   ]
  },
  {
   "cell_type": "markdown",
   "metadata": {},
   "source": [
    "## Step 1: Simulate Time-Series Data with Drift"
   ]
  },
  {
   "cell_type": "code",
   "execution_count": null,
   "metadata": {},
   "outputs": [],
   "source": [
    "# Generate base signal (no drift)\n",
    "np.random.seed(0)\n",
    "n = 1000\n",
    "x_ref = np.sin(np.linspace(0, 50, n)) + np.random.normal(0, 0.2, n)\n",
    "\n",
    "# Simulate drift (data distribution change)\n",
    "x_drift = np.sin(np.linspace(0, 50, n)) + np.random.normal(0.8, 0.5, n)\n",
    "\n",
    "# Create timestamp index\n",
    "timestamps = [datetime(2024, 3, 1) + timedelta(hours=i) for i in range(n)]\n",
    "df = pd.DataFrame({'timestamp': timestamps, 'value': x_drift})\n",
    "\n",
    "# Plot\n",
    "plt.figure(figsize=(12, 4))\n",
    "plt.plot(timestamps, x_drift, label='Drifted Data')\n",
    "plt.title('Simulated Drift in Time-Series Data')\n",
    "plt.xlabel('Time')\n",
    "plt.ylabel('Sensor Value')\n",
    "plt.legend()\n",
    "plt.tight_layout()\n",
    "plt.savefig('simulated_drift.png')\n",
    "plt.show()"
   ]
  },
  {
   "cell_type": "markdown",
   "metadata": {},
   "source": [
    "## Step 2: Apply Alibi-Detect’s KSDrift Detector"
   ]
  },
  {
   "cell_type": "code",
   "execution_count": null,
   "metadata": {},
   "outputs": [],
   "source": [
    "# Reshape input data for drift detector\n",
    "x_ref = x_ref.reshape(-1, 1)\n",
    "x_test = x_drift.reshape(-1, 1)\n",
    "\n",
    "# Initialize detector\n",
    "cd = KSDrift(x_ref, p_val=0.05)\n",
    "\n",
    "# Run drift test\n",
    "preds = cd.predict(x_test, drift_type='batch', return_p_val=True, return_distance=True)\n",
    "print(\"Drift Detected:\" if preds['data']['is_drift'] else \"No Drift Detected\")\n",
    "print(f\"p-value: {preds['data']['p_val'].mean():.4f}\")"
   ]
  },
  {
   "cell_type": "markdown",
   "metadata": {},
   "source": [
    "## Step 3: Visualize Drift Score Over Time"
   ]
  },
  {
   "cell_type": "code",
   "execution_count": null,
   "metadata": {},
   "outputs": [],
   "source": [
    "# Create sliding windows for batch detection\n",
    "window_size = 50\n",
    "drift_scores = []\n",
    "for i in range(0, len(x_test) - window_size, window_size):\n",
    "    batch = x_test[i:i+window_size]\n",
    "    score = cd.predict(batch)['data']['p_val']\n",
    "    drift_scores.append(score.mean())\n",
    "\n",
    "# Plot\n",
    "plt.figure(figsize=(12, 4))\n",
    "plt.plot(drift_scores, marker='o')\n",
    "plt.title('Drift Detection Signal (p-values per batch)')\n",
    "plt.axhline(y=0.05, color='r', linestyle='--', label='Threshold (0.05)')\n",
    "plt.xlabel('Batch Index')\n",
    "plt.ylabel('p-value')\n",
    "plt.legend()\n",
    "plt.tight_layout()\n",
    "plt.savefig('drift_detection_signal.png')\n",
    "plt.show()"
   ]
  },
  {
   "cell_type": "markdown",
   "metadata": {},
   "source": [
    "## Summary\n",
    "- We simulated drift in time-series forecast data.\n",
    "- Used `alibi-detect` to detect drift using the KS Test.\n",
    "- Generated visualizations for blog inclusion.\n",
    "- These results can be integrated into Airflow for automated alerting and pipeline monitoring."
   ]
  }
 ],
 "metadata": {
  "kernelspec": {
   "display_name": "3.10.14",
   "language": "python",
   "name": "python3"
  },
  "language_info": {
   "name": "python",
   "version": "3.10.14"
  }
 },
 "nbformat": 4,
 "nbformat_minor": 4
}
